{
 "cells":[
  {
   "cell_type":"markdown",
   "source":[
    "# Editor"
   ],
   "attachments":{},
   "metadata":{
    "datalore":{
     "node_id":"Editor",
     "type":"MD",
     "hide_input_from_viewers":false,
     "hide_output_from_viewers":false,
     "sheet_delimiter":true
    }
   }
  },
  {
   "cell_type":"code",
   "source":[
    "print(\"Welcome to Datalore!\")"
   ],
   "execution_count":1,
   "outputs":[
    {
     "name":"stdout",
     "text":[
      "Welcome to Datalore!\n"
     ],
     "output_type":"stream"
    }
   ],
   "metadata":{
    "datalore":{
     "node_id":"38y7jTgE9cOMt9rAFokr8s",
     "type":"CODE",
     "hide_input_from_viewers":true,
     "hide_output_from_viewers":false,
     "report_properties":{
      "rowId":"33sl19VC0pnwwWpLHinWNc"
     }
    }
   }
  },
  {
   "cell_type":"markdown",
   "source":[
    "# Getting Started Notebook\n",
    "\n",
    "Welcome to Datalore! This tutorial will help you understand the basics of the platform and start working with it.\n",
    "\n",
    "**Datalore** is the collaborative data science platform developed by JetBrains.\n",
    "\n",
    "This tutorial is a great place to learn about major Datalore features. If you want more information, you can:\n",
    "- Visit our [Documentation](https:\/\/www.jetbrains.com\/help\/datalore\/datalore-quickstart.html) for guides on specific features.\n",
    "- Subscribe to the [Datalore's blog](https:\/\/blog.jetbrains.com\/datalore\/). You will receive emails about feature announcements and Datalore tutorials!"
   ],
   "attachments":{},
   "metadata":{
    "datalore":{
     "node_id":"b0PlGeKUN03L4qbop9rwpK",
     "type":"MD",
     "hide_input_from_viewers":false,
     "hide_output_from_viewers":false,
     "report_properties":{
      "rowId":"sfvUCLpBu7yHOe76s7Qvjo"
     }
    }
   }
  },
  {
   "cell_type":"markdown",
   "source":[
    "## Watch this 2-minute Datalore overview video!\n",
    "<div align=\"center\"><video width=\"800\" height=\"450\" controls>\n",
    "\n",
    "<source src=\"https:\/\/datalore-samples.s3.eu-west-1.amazonaws.com\/getting-started\/videos_new\/Quick+Datalore+Overview.mp4\" type=\"video\/mp4\">\n",
    "\n",
    "<\/video><\/div>"
   ],
   "attachments":{},
   "metadata":{
    "datalore":{
     "node_id":"sQxnIuCeE0kaOcBWGTyUeh",
     "type":"MD",
     "hide_input_from_viewers":false,
     "hide_output_from_viewers":false,
     "report_properties":{
      "rowId":"hZsXMjEwQd5kJYVgI28hef"
     }
    }
   }
  },
  {
   "cell_type":"code",
   "source":[
    "message = \"😍🚀🙏🏻\""
   ],
   "execution_count":null,
   "outputs":[],
   "metadata":{
    "datalore":{
     "node_id":"Wcm1Qn9KUjgxnAfUsDY0mj",
     "type":"CONTROL",
     "hide_input_from_viewers":false,
     "hide_output_from_viewers":false,
     "report_properties":{
      "rowId":"4XOwvBHp8cTu0MJcZVvefp"
     },
     "controls_state":[
      {
       "type":"INPUT",
       "label":"How are you today?",
       "variable":"message",
       "value":"😍🚀🙏🏻",
       "multiline":false
      }
     ]
    }
   }
  },
  {
   "cell_type":"code",
   "source":[
    "print(\"Hi, Datalore! I'm feeling \" + message)"
   ],
   "execution_count":3,
   "outputs":[
    {
     "name":"stdout",
     "text":[
      "Hi, Datalore! I'm feeling 😍🚀🙏🏻\n"
     ],
     "output_type":"stream"
    }
   ],
   "metadata":{
    "datalore":{
     "node_id":"WqFWoYBfavNlsUD0fQP8sG",
     "type":"CODE",
     "hide_input_from_viewers":false,
     "hide_output_from_viewers":false,
     "report_properties":{
      "rowId":"k4BJN3mzhNZGAspki6j8fp"
     }
    }
   }
  },
  {
   "cell_type":"markdown",
   "source":[
    "💡 This tutorial is split into **worksheets**, and it is the first cool feature of the Datalore Editor!\n",
    "Just navigate through the tabs at the bottom of the editor or use the Table of contents on the left-hand sidebar.\n",
    "\n",
    "<div><img src=\"https:\/\/datalore-samples.s3.eu-west-1.amazonaws.com\/getting-started\/videos_new\/worksheets.png\" width = 900 border=\"2\" style=\"border-color: #d3d3d3; margin-top: 1%;\"\/><\/div>"
   ],
   "attachments":{},
   "metadata":{
    "datalore":{
     "node_id":"B0yf3j6P4Zz4K5I3WMpgOK",
     "type":"MD",
     "hide_input_from_viewers":false,
     "hide_output_from_viewers":false,
     "report_properties":{
      "rowId":"K2LYLHkdc6K6IAxVXO3fwR"
     }
    }
   }
  },
  {
   "cell_type":"markdown",
   "source":[
    "## Video tutorial: Notebook Editor\n",
    "\n",
    "<div align=\"center\"><video width=\"800\" height=\"450\" controls>\n",
    "\n",
    "<source src=\"https:\/\/datalore-samples.s3.eu-west-1.amazonaws.com\/getting-started\/videos_new\/1_Datalore_Editor+Overview.mp4\" type=\"video\/mp4\">\n",
    "\n",
    "<\/video><\/div>"
   ],
   "attachments":{},
   "metadata":{
    "datalore":{
     "node_id":"xImM2eWnUluYtOpEeLzvvd",
     "type":"MD",
     "hide_input_from_viewers":false,
     "hide_output_from_viewers":false,
     "report_properties":{
      "rowId":"jIjc4HtHh3fc1aeg1YIozr"
     }
    }
   }
  },
  {
   "cell_type":"markdown",
   "source":[
    "## Cells\n",
    "\n",
    "Inside the notebook you can add:\n",
    "\n",
    "- **Python code cells**, where you can use powerful coding assistance features such as code completion, quick-fixes, documentation popups, refactorings, and more. Code cells also support IPython magic commands.\n",
    "- **SQL cells** with code completion for both SQL syntax and database column names. The query result of a SQL cell is automatically transferred to the pandas dataframe.\n",
    "- **Markdown cells** with a text formatting toolbar and LaTeX support.\n",
    "- **Interactive controls** such as Dropdowns, Sliders, Text inputs, Checkboxes, Date pickers, Metric cells, Chart cells, and visibility controls.\n",
    "\n",
    "To add a new cell, hover over the bottom center of a cell and choose the cell type you want to add. \n",
    "Check out the [Shortcuts 101](.\/#Shortcuts-101) tab for a collection of the most useful shortcuts in Datalore.\n",
    "\n",
    "<div><img src=\"https:\/\/datalore-samples.s3.eu-west-1.amazonaws.com\/getting-started\/videos_new\/add_cell2.png\" width = 600 border=\"2\" style=\"border-color: #d3d3d3; margin-top: 1%;\"\/><\/div>"
   ],
   "attachments":{},
   "metadata":{
    "datalore":{
     "node_id":"hSGZmx2LhqpTN5lTyGgHH3",
     "type":"MD",
     "hide_input_from_viewers":false,
     "hide_output_from_viewers":false,
     "report_properties":{
      "rowId":"p6gWSs3CMeNSXJoUSmNW3r"
     }
    }
   }
  },
  {
   "cell_type":"markdown",
   "source":[
    "## Essential tools on the Left-hand sidebar\n",
    "\n",
    "You can access the most important Datalore features from the left-hand sidebar menu:\n",
    "- Configure the environment and install additional packages inside the **Environment** tab.\n",
    "- Upload data files and connect databases and S3 buckets from the **Attached data** tab.\n",
    "- See machine statistics, and configure Background computation and Scheduled runs from the **Computation** tab.\n",
    "- Navigate through the notebook using the **Table of contents** tab.\n",
    "- Browse variable contents from the **Variable viewer** tab.\n",
    "\n",
    "<div><img src=\"https:\/\/datalore-samples.s3.eu-west-1.amazonaws.com\/getting-started\/videos_new\/left_sidebar2.png\" title = \"Computation tab in the left-hand sidebar\" width = 600 border=\"2\" style=\"border-color: #d3d3d3; margin-top: 1%;\" \/><\/div>"
   ],
   "attachments":{},
   "metadata":{
    "datalore":{
     "node_id":"rrATKmyFywamadgmPpESi4",
     "type":"MD",
     "hide_input_from_viewers":false,
     "hide_output_from_viewers":false,
     "report_properties":{
      "rowId":"b3sx1b9zHuqw2WuWIWTBpB"
     }
    }
   }
  },
  {
   "cell_type":"markdown",
   "source":[
    "**Now please switch to the second worksheet tab: Data**"
   ],
   "attachments":{},
   "metadata":{
    "datalore":{
     "node_id":"M4rw6Y8dQEoOjPyCPQSUD5",
     "type":"MD",
     "hide_input_from_viewers":false,
     "hide_output_from_viewers":false,
     "report_properties":{
      "rowId":"DHvAFGcy4no4eMI5zfVoLT"
     }
    }
   }
  },
  {
   "cell_type":"markdown",
   "source":[
    "# Data"
   ],
   "attachments":{},
   "metadata":{
    "datalore":{
     "node_id":"Data",
     "type":"MD",
     "hide_input_from_viewers":false,
     "hide_output_from_viewers":false,
     "sheet_delimiter":true
    }
   }
  },
  {
   "cell_type":"markdown",
   "source":[
    "# Working with data\n",
    "## Video tutorial\n",
    "\n",
    "<div align=\"center\"><video width=\"800\" height=\"450\" controls>\n",
    "\n",
    "<source src=\"https:\/\/datalore-samples.s3.eu-west-1.amazonaws.com\/getting-started\/videos_new\/2_Working_with_Data.mp4\">\n",
    "\n",
    "<\/video><\/div>"
   ],
   "attachments":{},
   "metadata":{
    "datalore":{
     "node_id":"wJ5CdYHXwDlfubAFkXCcFF",
     "type":"MD",
     "hide_input_from_viewers":false,
     "hide_output_from_viewers":false,
     "report_properties":{
      "rowId":"DCoQS2iGJ3oIEcmJUBRX7d"
     }
    }
   }
  },
  {
   "cell_type":"markdown",
   "source":[
    "\n",
    "## Plug in multiple data sources\n",
    "\n",
    "In Datalore you can work with **various data sources** together in one notebook. \n",
    "\n",
    "You can connect your **SQL databases** (such as MySQL, Snowflake, PostgreSQL, Redshift, etc.), **bucket storages** (AWS S3, GCS buckets), and **files** (any file types) from the interface and further query and join them in one notebook.\n",
    "\n",
    "To manage all your data, please use the **Attached data** tab in the left-hand sidebar.\n",
    "\n",
    "<div><img src=\"https:\/\/datalore-samples.s3.eu-west-1.amazonaws.com\/getting-started\/videos_new\/many_datasets2.png\" width = 1000 border=\"2\" style=\"border-color: #d3d3d3; margin-top: 1%;\"\/><\/div>"
   ],
   "attachments":{},
   "metadata":{
    "datalore":{
     "node_id":"I8HY4c0f6NTSQ5KEra08YE",
     "type":"MD",
     "hide_input_from_viewers":false,
     "hide_output_from_viewers":false,
     "report_properties":{
      "rowId":"IwyRqRPgvBRqWjvbuAPZxo"
     }
    }
   }
  },
  {
   "cell_type":"markdown",
   "source":[
    "## Reusing data connections\n",
    "\n",
    "When creating a bucket or a database connection, you’ll be able to reuse it across other notebooks in the same workspace.\n",
    "\n",
    "You can manage all of the attached data sources from the workspace file system and add new connections directly from the notebook interface.\n",
    "\n",
    "When you share a notebook or a workspace, your credentials **are not exposed to the environment**.\n",
    "\n",
    "<div><img src=\"https:\/\/datalore-samples.s3.eu-west-1.amazonaws.com\/getting-started\/videos_new\/manage_datasources2.png\" width = 600 border=\"2\" style=\"border-color: #d3d3d3; margin-top: 1%;\"\/><\/div>"
   ],
   "attachments":{},
   "metadata":{
    "datalore":{
     "node_id":"4IW3lCEfirwXoZxBBfd8Op",
     "type":"MD",
     "hide_input_from_viewers":false,
     "hide_output_from_viewers":false,
     "report_properties":{
      "rowId":"sDzGsS8K6glBCG4zcucwRY"
     }
    }
   }
  },
  {
   "cell_type":"markdown",
   "source":[
    "## Persistent file storage\n",
    "\n",
    "Datalore comes with persistent storage for each notebook. This means you can upload your data files directly to **Notebook files**. If you want to share a file across multiple notebooks, attach **Workspace files** to the notebook and upload it there. Workspace files are mounted under the `\/data\/workspace_files\/` directory.\n",
    "\n",
    "### Benefits of attaching files to a notebook\n",
    "\n",
    "- Your workspace file system won't be cluttered with too many files.\n",
    "- Notebook files are shared automatically when you invite collaborators to the notebook.\n",
    "\n",
    "Additionally, you can download data to Notebook or Workspace files or to store it in memory using various Python packages and APIs."
   ],
   "attachments":{},
   "metadata":{
    "datalore":{
     "node_id":"bdV0X2LHINh52AJz4b5qni",
     "type":"MD",
     "hide_input_from_viewers":false,
     "hide_output_from_viewers":false,
     "report_properties":{
      "rowId":"ROPSrCmSdZh0YrzvviZ3zK"
     }
    }
   }
  },
  {
   "cell_type":"markdown",
   "source":[
    "## Dataframe exploration\n",
    "\n",
    "Whenever a pandas dataframe is the result of your cell execution, you get additional tabs in the cell output:\n",
    "- **Table** – a scrollable table view of your data\n",
    "- **Raw** – this tab represents the raw output without the ability to scroll the data\n",
    "- **Visualize** – this tab brings out-of-the box plots to help you visually explore the data\n",
    "- **Statistics** – this tab provides essential descriptive statistics for your dataframe\n",
    "\n",
    "### Task: **Run the code cell above** and navigate to the **Visualize** and **Statistics** tabs!\n",
    "\n",
    "<div><img src=\"https:\/\/datalore-samples.s3.eu-west-1.amazonaws.com\/getting-started\/videos_new\/statistics_new2.png\" width = 600 border=\"2\" style=\"border-color: #d3d3d3; margin-top: 1%;\"\/><\/div>\n"
   ],
   "attachments":{},
   "metadata":{
    "datalore":{
     "node_id":"rcVYBWbunldyJbSlYDgEfd",
     "type":"MD",
     "hide_input_from_viewers":false,
     "hide_output_from_viewers":false,
     "report_properties":{
      "rowId":"AJS7REsgisH1yhKQeBWIw6"
     }
    }
   }
  },
  {
   "cell_type":"code",
   "source":[
    "import urllib\n",
    "import pandas as pd\n",
    "\n",
    "urllib.request.urlretrieve('https:\/\/datalore-samples.s3.eu-west-1.amazonaws.com\/datalore_gallery_of_samples\/Getting+started\/gpus.csv', 'gpus.csv')\n",
    "\n",
    "data = pd.read_csv(\"gpus.csv\")\n",
    "data"
   ],
   "execution_count":4,
   "outputs":[
    {
     "data":{
      "text\/html":[
       "<div>\n",
       "<style scoped>\n",
       "    .dataframe tbody tr th:only-of-type {\n",
       "        vertical-align: middle;\n",
       "    }\n",
       "\n",
       "    .dataframe tbody tr th {\n",
       "        vertical-align: top;\n",
       "    }\n",
       "\n",
       "    .dataframe thead th {\n",
       "        text-align: right;\n",
       "    }\n",
       "<\/style>\n",
       "<table border=\"1\" class=\"dataframe\">\n",
       "  <thead>\n",
       "    <tr style=\"text-align: right;\">\n",
       "      <th><\/th>\n",
       "      <th>Manufacturer<\/th>\n",
       "      <th>Class<\/th>\n",
       "      <th>Name<\/th>\n",
       "      <th>Year<\/th>\n",
       "      <th>Fab<\/th>\n",
       "      <th>Transistors (mln)<\/th>\n",
       "      <th>Die size<\/th>\n",
       "      <th>Memory size<\/th>\n",
       "      <th>Memory speed<\/th>\n",
       "      <th>GFLOPS<\/th>\n",
       "      <th>TDP<\/th>\n",
       "    <\/tr>\n",
       "  <\/thead>\n",
       "  <tbody>\n",
       "    <tr>\n",
       "      <th>0<\/th>\n",
       "      <td>Nvidia<\/td>\n",
       "      <td>Desktop<\/td>\n",
       "      <td>GeForce 8300 GS<\/td>\n",
       "      <td>2007<\/td>\n",
       "      <td>80<\/td>\n",
       "      <td>210<\/td>\n",
       "      <td>127<\/td>\n",
       "      <td>512<\/td>\n",
       "      <td>6.4<\/td>\n",
       "      <td>14.4<\/td>\n",
       "      <td>40.0<\/td>\n",
       "    <\/tr>\n",
       "    <tr>\n",
       "      <th>1<\/th>\n",
       "      <td>Nvidia<\/td>\n",
       "      <td>Desktop<\/td>\n",
       "      <td>GeForce 8400 GS<\/td>\n",
       "      <td>2007<\/td>\n",
       "      <td>80<\/td>\n",
       "      <td>210<\/td>\n",
       "      <td>127<\/td>\n",
       "      <td>512<\/td>\n",
       "      <td>6.4<\/td>\n",
       "      <td>28.8<\/td>\n",
       "      <td>40.0<\/td>\n",
       "    <\/tr>\n",
       "    <tr>\n",
       "      <th>2<\/th>\n",
       "      <td>Nvidia<\/td>\n",
       "      <td>Desktop<\/td>\n",
       "      <td>GeForce 8400 GS rev.2<\/td>\n",
       "      <td>2007<\/td>\n",
       "      <td>65<\/td>\n",
       "      <td>210<\/td>\n",
       "      <td>86<\/td>\n",
       "      <td>512<\/td>\n",
       "      <td>6.4<\/td>\n",
       "      <td>24.4<\/td>\n",
       "      <td>25.0<\/td>\n",
       "    <\/tr>\n",
       "    <tr>\n",
       "      <th>3<\/th>\n",
       "      <td>Nvidia<\/td>\n",
       "      <td>Desktop<\/td>\n",
       "      <td>GeForce 8400 GS rev.3<\/td>\n",
       "      <td>2010<\/td>\n",
       "      <td>40<\/td>\n",
       "      <td>260<\/td>\n",
       "      <td>57<\/td>\n",
       "      <td>1024<\/td>\n",
       "      <td>9.6<\/td>\n",
       "      <td>19.7<\/td>\n",
       "      <td>25.0<\/td>\n",
       "    <\/tr>\n",
       "    <tr>\n",
       "      <th>4<\/th>\n",
       "      <td>Nvidia<\/td>\n",
       "      <td>Desktop<\/td>\n",
       "      <td>GeForce 8500 GT<\/td>\n",
       "      <td>2007<\/td>\n",
       "      <td>80<\/td>\n",
       "      <td>210<\/td>\n",
       "      <td>127<\/td>\n",
       "      <td>1024<\/td>\n",
       "      <td>12.8<\/td>\n",
       "      <td>28.8<\/td>\n",
       "      <td>45.0<\/td>\n",
       "    <\/tr>\n",
       "    <tr>\n",
       "      <th>...<\/th>\n",
       "      <td>...<\/td>\n",
       "      <td>...<\/td>\n",
       "      <td>...<\/td>\n",
       "      <td>...<\/td>\n",
       "      <td>...<\/td>\n",
       "      <td>...<\/td>\n",
       "      <td>...<\/td>\n",
       "      <td>...<\/td>\n",
       "      <td>...<\/td>\n",
       "      <td>...<\/td>\n",
       "      <td>...<\/td>\n",
       "    <\/tr>\n",
       "    <tr>\n",
       "      <th>490<\/th>\n",
       "      <td>AMD Radeon<\/td>\n",
       "      <td>Datacenter<\/td>\n",
       "      <td>Radeon Instinct MI6<\/td>\n",
       "      <td>2016<\/td>\n",
       "      <td>14<\/td>\n",
       "      <td>5700<\/td>\n",
       "      <td>232<\/td>\n",
       "      <td>16384<\/td>\n",
       "      <td>224.0<\/td>\n",
       "      <td>5800.0<\/td>\n",
       "      <td>150.0<\/td>\n",
       "    <\/tr>\n",
       "    <tr>\n",
       "      <th>491<\/th>\n",
       "      <td>AMD Radeon<\/td>\n",
       "      <td>Datacenter<\/td>\n",
       "      <td>Radeon Instinct MI8<\/td>\n",
       "      <td>2016<\/td>\n",
       "      <td>28<\/td>\n",
       "      <td>8900<\/td>\n",
       "      <td>596<\/td>\n",
       "      <td>4096<\/td>\n",
       "      <td>512.0<\/td>\n",
       "      <td>8200.0<\/td>\n",
       "      <td>175.0<\/td>\n",
       "    <\/tr>\n",
       "    <tr>\n",
       "      <th>492<\/th>\n",
       "      <td>AMD Radeon<\/td>\n",
       "      <td>Datacenter<\/td>\n",
       "      <td>Radeon Instinct MI25<\/td>\n",
       "      <td>2016<\/td>\n",
       "      <td>14<\/td>\n",
       "      <td>12500<\/td>\n",
       "      <td>510<\/td>\n",
       "      <td>16384<\/td>\n",
       "      <td>436.2<\/td>\n",
       "      <td>12300.0<\/td>\n",
       "      <td>300.0<\/td>\n",
       "    <\/tr>\n",
       "    <tr>\n",
       "      <th>493<\/th>\n",
       "      <td>AMD Radeon<\/td>\n",
       "      <td>Datacenter<\/td>\n",
       "      <td>Radeon Instinct MI50<\/td>\n",
       "      <td>2018<\/td>\n",
       "      <td>7<\/td>\n",
       "      <td>13200<\/td>\n",
       "      <td>331<\/td>\n",
       "      <td>16384<\/td>\n",
       "      <td>1024.0<\/td>\n",
       "      <td>13400.0<\/td>\n",
       "      <td>300.0<\/td>\n",
       "    <\/tr>\n",
       "    <tr>\n",
       "      <th>494<\/th>\n",
       "      <td>AMD Radeon<\/td>\n",
       "      <td>Datacenter<\/td>\n",
       "      <td>Radeon Instinct MI60<\/td>\n",
       "      <td>2018<\/td>\n",
       "      <td>7<\/td>\n",
       "      <td>13200<\/td>\n",
       "      <td>331<\/td>\n",
       "      <td>32768<\/td>\n",
       "      <td>1024.0<\/td>\n",
       "      <td>14725.0<\/td>\n",
       "      <td>300.0<\/td>\n",
       "    <\/tr>\n",
       "  <\/tbody>\n",
       "<\/table>\n",
       "<p>495 rows × 11 columns<\/p>\n",
       "<\/div>"
      ]
     },
     "metadata":{},
     "output_type":"display_data"
    }
   ],
   "metadata":{
    "datalore":{
     "node_id":"BQzAXyERLQRmj4k0OUevVS",
     "type":"CODE",
     "hide_input_from_viewers":false,
     "hide_output_from_viewers":false,
     "report_properties":{
      "rowId":"cUnDdTRI2XuUIf63gEEJDK"
     }
    }
   }
  },
  {
   "cell_type":"markdown",
   "source":[
    "## Viewing and editing attached files\n",
    "\n",
    "Double-clicking on a .csv or text file opens it for editing in the right sidebar editor and lets you view the file and edit its contents.\n",
    "\n",
    "<div><img src=\"https:\/\/datalore-samples.s3.eu-west-1.amazonaws.com\/getting-started\/videos_new\/edit_csv_new2.png\" width = 600 border=\"2\" style=\"border-color: #d3d3d3; margin-top: 1%;\"\/><\/div>\n",
    "\n",
    "If you open a .py script, you will also get smart coding assistance features for editing its contents.\n",
    "\n",
    "<div><img src=\"https:\/\/datalore-samples.s3.eu-west-1.amazonaws.com\/getting-started\/videos_new\/python_func2.png\" width = 600 border=\"2\" style=\"border-color: #d3d3d3; margin-top: 1%;\"\/><\/div>"
   ],
   "attachments":{},
   "metadata":{
    "datalore":{
     "node_id":"XqLqSdttRC69qHPIs8L0mo",
     "type":"MD",
     "hide_input_from_viewers":false,
     "hide_output_from_viewers":false,
     "report_properties":{
      "rowId":"Gwk32cTXdzEUEhMqiL5QWA"
     }
    }
   }
  },
  {
   "cell_type":"markdown",
   "source":[
    "# Environment"
   ],
   "attachments":{},
   "metadata":{
    "datalore":{
     "node_id":"Environment",
     "type":"MD",
     "hide_input_from_viewers":false,
     "hide_output_from_viewers":false,
     "sheet_delimiter":true
    }
   }
  },
  {
   "cell_type":"markdown",
   "source":[
    "# Managing the environment"
   ],
   "attachments":{},
   "metadata":{
    "datalore":{
     "node_id":"zbTp9bD1SAs9lc3uB2s9bQ",
     "type":"MD",
     "hide_input_from_viewers":false,
     "hide_output_from_viewers":false,
     "report_properties":{
      "rowId":"bEx0zfYd5zhYAmsiid4GTs"
     }
    }
   }
  },
  {
   "cell_type":"markdown",
   "source":[
    "## Video tutorial\n",
    "\n",
    "<div align=\"center\"><video width=\"800\" height=\"450\" controls>\n",
    "\n",
    "<source src=\"https:\/\/datalore-samples.s3.eu-west-1.amazonaws.com\/getting-started\/videos_new\/3_Configuring_Environment_in_Datalore.mp4\">\n",
    "\n",
    "<\/video><\/div>"
   ],
   "attachments":{},
   "metadata":{
    "datalore":{
     "node_id":"PoRmZDjtLdROtBGZOAKVG5",
     "type":"MD",
     "hide_input_from_viewers":false,
     "hide_output_from_viewers":false,
     "report_properties":{
      "rowId":"EfAd5zHBP3txrCQNWFheHf"
     }
    }
   }
  },
  {
   "cell_type":"markdown",
   "source":[
    "## Preconfigured environment\n",
    "\n",
    "Each notebook in Datalore has an **isolated environment**. This means that when you apply changes to one notebook, they won't affect any of the other notebook environments.\n",
    "\n",
    "Datalore comes with a lot of **Python libraries pre-installed**.\n",
    "\n",
    "We've already installed `pandas`, `NumPy`, `sklearn`, `MatplotLib`, and `Seaborn`, so you can start importing the package you need right away.\n",
    "\n",
    "Datalore supports both the **pip** and **Conda** package managers. Pip is chosen by default, but you can always switch to Conda.\n",
    "\n",
    "<div><img src=\"https:\/\/datalore-samples.s3.eu-west-1.amazonaws.com\/getting-started\/videos_new\/environment_tab.png\" width = 300 border=\"2\" style=\"border-color: #d3d3d3; margin-top: 1%;\"\/><\/div>\n",
    "\n",
    "## Installing additional libraries\n",
    "\n",
    "- To install additional libraries, upgrade package versions, and remove libraries, go to *Environment | Explore tab*. The changes will be written into the .yaml file, which will be stored in your Notebook files.\n",
    "- To install a package from a Git repository, go to *Environment | Repositories*.\n",
    "- To install any other dependencies (f.e. non-python dependencies), you can modify the `init.sh` file. It will run before the environment is installed.\n",
    "  \n",
    "💡 Packages installed via the **Environment** tab are **persisted** when you reopen notebooks. You can also install packages using **pip magic commands** or ***Terminal***, but they won't be persisted.\n",
    "\n",
    "You can learn more about this in the [Environment manager documentation.](https:\/\/www.jetbrains.com\/help\/datalore\/environment.html)"
   ],
   "attachments":{},
   "metadata":{
    "datalore":{
     "node_id":"zogriwZb6Hu6P4Q8bVlNgW",
     "type":"MD",
     "hide_input_from_viewers":false,
     "hide_output_from_viewers":false,
     "report_properties":{
      "rowId":"XscBWzKjVDT5zRDG62JLai"
     }
    }
   }
  },
  {
   "cell_type":"markdown",
   "source":[
    "### Task: Install and import the `datasets` library\n",
    "\n",
    "1. Run the code cell below using `Shift+Enter`.\n",
    "2. **Click on the prompt in the error log to search for the datasets library. This prompt will open the *Explore tab* of the *Environment manager*.**\n",
    "3. Click on the datasets library.\n",
    "4. Click the Install button.\n",
    "5. Restart the kernel.\n",
    "6. Rerun the cell."
   ],
   "attachments":{},
   "metadata":{
    "datalore":{
     "node_id":"eFlMwuuq2w6352zrWeFeYo",
     "type":"MD",
     "hide_input_from_viewers":false,
     "hide_output_from_viewers":false,
     "report_properties":{
      "rowId":"9JQIsZ0PeBrd53Cde1IfAo"
     }
    }
   }
  },
  {
   "cell_type":"code",
   "source":[
    "import datasets\n",
    "\n",
    "datasets.__version__"
   ],
   "execution_count":5,
   "outputs":[
    {
     "ename":"ModuleNotFoundError",
     "evalue":"No module named 'datasets'",
     "traceback":[
      "\u001b[0;31m---------------------------------------------------------------------------",
      "Traceback (most recent call last)",
      "No module named 'datasets'"
     ],
     "output_type":"error"
    }
   ],
   "metadata":{
    "datalore":{
     "node_id":"6FGwh5yJFlgD0fITlgL5AJ",
     "type":"CODE",
     "hide_input_from_viewers":false,
     "hide_output_from_viewers":false,
     "report_properties":{
      "rowId":"hyxLEKDubag3D5I5oLEX0j"
     }
    }
   }
  },
  {
   "cell_type":"markdown",
   "source":[
    "# Sharing"
   ],
   "attachments":{},
   "metadata":{
    "datalore":{
     "node_id":"Sharing",
     "type":"MD",
     "hide_input_from_viewers":false,
     "hide_output_from_viewers":false,
     "sheet_delimiter":true
    }
   }
  },
  {
   "cell_type":"markdown",
   "source":[
    "# Collaborating with your team\n",
    "\n",
    "## Video tutorial\n",
    "\n",
    "<div align=\"center\"><video width=\"800\" height=\"450\" controls>\n",
    "\n",
    "<source src=\"https:\/\/datalore-samples.s3.eu-west-1.amazonaws.com\/getting-started\/videos_new\/4_Sharing_Notebooks_and_Workspaces_in_Datalore.mp4\">\n",
    "\n",
    "<\/video><\/div>"
   ],
   "attachments":{},
   "metadata":{
    "datalore":{
     "node_id":"WEJAKS0YfmX6j9BonPFogz",
     "type":"MD",
     "hide_input_from_viewers":false,
     "hide_output_from_viewers":false,
     "report_properties":{
      "rowId":"1ZCeMVAQ9RZ0RYvSbO3z9g"
     }
    }
   }
  },
  {
   "cell_type":"markdown",
   "source":[
    "## Sharing a notebook\n",
    "\n",
    "In Datalore, you can edit notebooks together with your team in real time.\n",
    "\n",
    "Click on the Share button in the top-right corner and choose your preferred sharing method:\n",
    "- Share by sending a link (the simpler option).\n",
    "- Invite collaborators by email (for more granular permissions).\n",
    "- Share with groups of collaborators. Please contact your Datalore admins to find out whether you have groups integrated with Datalore.\n",
    "  \n",
    "💡 To access notebooks as collaborators, invited users will need to create a Datalore account.\n",
    "\n",
    "<div><img src=\"https:\/\/datalore-samples.s3.eu-west-1.amazonaws.com\/getting-started\/videos_new\/Sharing2.png\" width = 900 border=\"2\" style=\"border-color: #d3d3d3; margin-top: 1%;\"\/><\/div>\n",
    "\n",
    "When sharing a notebook you can provide either edit or view access.\n",
    "- **Edit access** will allow collaborators to edit code and attached files and run computations.\n",
    "  \n",
    "  ⚠️ Note that collaborators will consume the notebook owner's resources.\n",
    "- **View access** will only allow users to see the real-time representation of the notebook.\n",
    "  \n",
    "To track the changes, Datalore has a **built-in version control system** where you can create history checkpoints and revert the notebook to past versions. Check this out via ***Tools | History***.\n",
    "\n",
    "You can read more about notebook sharing [here](https:\/\/www.jetbrains.com\/help\/datalore\/share-a-notebook.html)."
   ],
   "attachments":{},
   "metadata":{
    "datalore":{
     "node_id":"GQlc2P4odlgIxJvTjTKOFq",
     "type":"MD",
     "hide_input_from_viewers":false,
     "hide_output_from_viewers":false,
     "report_properties":{
      "rowId":"4DyOJ1vxdyGoRYdzPsyb1Y"
     }
    }
   }
  },
  {
   "cell_type":"markdown",
   "source":[
    "### Task: Invite your colleagues to Datalore!\n",
    "\n",
    "Try out the real-time collaboration feature with your colleagues. Working together can be a lot of fun. 🚀\n",
    "\n",
    "To **track your collaborator's actions** through the notebook and attached files, click on their avatar in the upper right-hand corner and start following along!\n",
    "\n",
    "<div><img src=\"https:\/\/datalore-samples.s3.eu-west-1.amazonaws.com\/getting-started\/videos_new\/Main_teamwork.png\" width = 900 border=\"2\" style=\"border-color: #d3d3d3; margin-top: 1%;\"\/><\/div>"
   ],
   "attachments":{},
   "metadata":{
    "datalore":{
     "node_id":"gXnjHFGTDd1jk5ytyxkQPm",
     "type":"MD",
     "hide_input_from_viewers":false,
     "hide_output_from_viewers":false,
     "report_properties":{
      "rowId":"7X67YshWiFWUaaX0wZNzA4"
     }
    }
   }
  },
  {
   "cell_type":"markdown",
   "source":[
    "## Sharing a workspace\n",
    "\n",
    "In Datalore, you can create and share workspaces.\n",
    "\n",
    "Workspaces help you organize your work and allow you to easily share multiple notebooks, data connections, files, and reports with your team.\n",
    "\n",
    "\n",
    "<div><img src=\"https:\/\/datalore-samples.s3.eu-west-1.amazonaws.com\/datalore_gallery_of_samples\/Getting+started\/workspace.png\" width = 300 border=\"2\" style=\"border-color: #d3d3d3; margin-top: 1%;\"\/><\/div>\n",
    "\n",
    "⚠️ Note that the workspace owner's resources will be consumed for all the computations made in the workspace."
   ],
   "attachments":{},
   "metadata":{
    "datalore":{
     "node_id":"aY264QJ11naPUdSB1eki1U",
     "type":"MD",
     "hide_input_from_viewers":false,
     "hide_output_from_viewers":false,
     "report_properties":{
      "rowId":"ovgLF7YILkqnVYXFdSvOCj"
     }
    }
   }
  },
  {
   "cell_type":"markdown",
   "source":[
    "# Reporting"
   ],
   "attachments":{},
   "metadata":{
    "datalore":{
     "node_id":"Reporting",
     "type":"MD",
     "hide_input_from_viewers":false,
     "hide_output_from_viewers":false,
     "sheet_delimiter":true
    }
   }
  },
  {
   "cell_type":"markdown",
   "source":[
    "# Reporting\n",
    "\n",
    "## Video tutorial\n",
    "\n",
    "<div align=\"center\"><video width=\"800\" height=\"450\" controls>\n",
    "\n",
    "<source src=\"https:\/\/datalore-samples.s3.eu-west-1.amazonaws.com\/getting-started\/videos_new\/5_Creating_Interactive_Reports_with_Datalore.mp4\">\n",
    "\n",
    "<\/video><\/div>"
   ],
   "attachments":{},
   "metadata":{
    "datalore":{
     "node_id":"L60bGt14yNjvHKNxpafNGB",
     "type":"MD",
     "hide_input_from_viewers":false,
     "hide_output_from_viewers":false,
     "report_properties":{
      "rowId":"dpZhTa1iA42rpcd584B16S"
     }
    }
   }
  },
  {
   "cell_type":"markdown",
   "source":[
    "\n",
    "## Report builder\n",
    "\n",
    "To share your research results with stakeholders, you can use the Report builder feature via the *Tools* menu section or by clicking the *Build report* button in the upper right-hand corner.\n",
    "\n",
    "You will be able to:\n",
    "- Arrange the cells on a canvas to make the report look more dashboard-style.\n",
    "- Hide specific cell inputs and outputs.\n",
    "- Publish a static or interactive report.\n",
    "\n",
    "<div><img src=\"https:\/\/datalore-samples.s3.eu-west-1.amazonaws.com\/getting-started\/videos_new\/Report_builder2.png\" width = 900 border=\"2\" style=\"border-color: #d3d3d3; margin-top: 1%;\"\/><\/div>"
   ],
   "attachments":{},
   "metadata":{
    "datalore":{
     "node_id":"3CxN0ZsynJPikvTPFGQprB",
     "type":"MD",
     "hide_input_from_viewers":false,
     "hide_output_from_viewers":false,
     "report_properties":{
      "rowId":"eC8rBvFJdFXJ3VE8LlHIdn"
     }
    }
   }
  },
  {
   "cell_type":"markdown",
   "source":[
    "### Task: Create a report out of this notebook!"
   ],
   "attachments":{},
   "metadata":{
    "datalore":{
     "node_id":"UrmBzVxnXemyOOCX0QrRPm",
     "type":"MD",
     "hide_input_from_viewers":false,
     "hide_output_from_viewers":false,
     "report_properties":{
      "rowId":"IKodyf31yMd7xmGmyxECCM"
     }
    }
   }
  },
  {
   "cell_type":"markdown",
   "source":[
    "## Sharing reports\n",
    "After you publish a report, it will become available under a link. You can then share it with colleagues even if they don't have a Datalore account – the report will be available for them inside the browser. Each report viewer will get a separate copy of the report and will be able to interact with the controls and rerun the report independently.\n",
    "\n",
    "You can also access **all the workspace reports** from the Published reports section in your Workspace file system."
   ],
   "attachments":{},
   "metadata":{
    "datalore":{
     "node_id":"LwelxqJJ2fFAkEW9QLQNhM",
     "type":"MD",
     "hide_input_from_viewers":false,
     "hide_output_from_viewers":false,
     "report_properties":{
      "rowId":"jTXzw2HjOgA3y3mwLgGZwp"
     }
    }
   }
  },
  {
   "cell_type":"markdown",
   "source":[
    "## Export as PDF, PY, IPYNB\n",
    "\n",
    "You can export notebooks in multiple formats, including PDF.\n",
    "\n",
    "Go to the *File* menu tab and select the export option you need."
   ],
   "attachments":{},
   "metadata":{
    "datalore":{
     "node_id":"9YAMnWljo4jSyrqKX5tF22",
     "type":"MD",
     "hide_input_from_viewers":false,
     "hide_output_from_viewers":false,
     "report_properties":{
      "rowId":"vpt1oyKxUxXe9GqdR4zT0Q"
     }
    }
   }
  },
  {
   "cell_type":"markdown",
   "source":[
    "# Automations"
   ],
   "attachments":{},
   "metadata":{
    "datalore":{
     "node_id":"Automations",
     "type":"MD",
     "hide_input_from_viewers":false,
     "hide_output_from_viewers":false,
     "sheet_delimiter":true
    }
   }
  },
  {
   "cell_type":"markdown",
   "source":[
    "# Automations\n",
    "\n",
    "## Video tutorial\n",
    "\n",
    "<div align=\"center\"><video width=\"800\" height=\"450\" controls>\n",
    "\n",
    "<source src=\"https:\/\/datalore-samples.s3.eu-west-1.amazonaws.com\/getting-started\/videos_new\/6_Creating_Schedules_and_Configuring_Computation_in_Datalore.mp4\">\n",
    "\n",
    "<\/video><\/div>"
   ],
   "attachments":{},
   "metadata":{
    "datalore":{
     "node_id":"o6bClnJ1uXpatAzm0QBjMb",
     "type":"MD",
     "hide_input_from_viewers":false,
     "hide_output_from_viewers":false,
     "report_properties":{
      "rowId":"MFbillXfXROqdVgxgc8DaY"
     }
    }
   }
  },
  {
   "cell_type":"markdown",
   "source":[
    "## Scheduled runs\n",
    "\n",
    "In Datalore, you can schedule your notebook to run on a regular basis. Go to the Computation tab and create a schedule in the Scheduled runs widget. You'll be able to configure the running interval by using the dropdowns or by specifying a cron string.\n",
    "\n",
    "<div><img src=\"https:\/\/datalore-samples.s3.eu-west-1.amazonaws.com\/getting-started\/videos_new\/scheduling2.png\" width = 900 border=\"2\" style=\"border-color: #d3d3d3; margin-top: 1%;\"\/><\/div>"
   ],
   "attachments":{},
   "metadata":{
    "datalore":{
     "node_id":"5mZbleBKRsUGLDl1rVfFdZ",
     "type":"MD",
     "hide_input_from_viewers":false,
     "hide_output_from_viewers":false,
     "report_properties":{
      "rowId":"s1czQ0m3fS3QywqyqqmODY"
     }
    }
   }
  },
  {
   "cell_type":"markdown",
   "source":[
    "### Scheduled report updates\n",
    "\n",
    "When configuring notebook schedules, you can choose to automatically update published reports, delivering regular updates to your stakeholders.\n",
    "\n",
    "### Managing the schedules\n",
    "\n",
    "You can view and edit all the schedules of the workspace from the file system. You'll be able to view your run results and change the scheduling settings."
   ],
   "attachments":{},
   "metadata":{
    "datalore":{
     "node_id":"clpshtmPJGcxqfuZeNDGWC",
     "type":"MD",
     "hide_input_from_viewers":false,
     "hide_output_from_viewers":false,
     "report_properties":{
      "rowId":"3KfRXbnlMvIN6N2oODnR3w"
     }
    }
   }
  },
  {
   "cell_type":"markdown",
   "source":[
    "## Switching between CPU and GPU\n",
    "\n",
    "When running a notebook, you can choose between available machines according to your needs. The Computation tab will also show you the CPU and RAM load statistics. The computation status bar is located in the bottom right-hand corner of the editor.\n",
    "\n",
    "<div><img src=\"https:\/\/datalore-samples.s3.eu-west-1.amazonaws.com\/getting-started\/videos_new\/Changing_machine_type.png\" width = 300 border=\"2\" style=\"border-color: #d3d3d3; margin-top: 1%;\"\/><\/div>"
   ],
   "attachments":{},
   "metadata":{
    "datalore":{
     "node_id":"NIUpHTHcn1ZpV1k82kymW7",
     "type":"MD",
     "hide_input_from_viewers":false,
     "hide_output_from_viewers":false,
     "report_properties":{
      "rowId":"z0Iu3ddQNCjIVBMpdcGeOy"
     }
    }
   }
  },
  {
   "cell_type":"markdown",
   "source":[
    "## Background computation\n",
    " \n",
    "Switching on Background computation from the Computation tab allows you to keep notebooks running even if you close the browser tab. \n",
    "\n",
    "Learn more about Background computation [here](https:\/\/helpserver.labs.jb.gg\/help\/datalore\/machine-management.html#computation-modes).\n",
    "\n",
    "⚠️ Be careful when switching on Background computation, as it will consume your computation quota."
   ],
   "attachments":{},
   "metadata":{
    "datalore":{
     "node_id":"pj8KvtZwrugV81CKSnoAki",
     "type":"MD",
     "hide_input_from_viewers":false,
     "hide_output_from_viewers":false,
     "report_properties":{
      "rowId":"6Or7OcIOGuyuQ6LRmeRxTy"
     }
    }
   }
  },
  {
   "cell_type":"markdown",
   "source":[
    "## Shortcuts 101\n",
    "\n",
    "Datalore supports a wide variety of Jupyter and PyCharm shortcuts. You can access the full list from *Help | Shortcuts* or by pressing `Shift+F1`.\n",
    "\n",
    "<div><img src=\"https:\/\/datalore-samples.s3.eu-west-1.amazonaws.com\/datalore_gallery_of_samples\/Getting+started\/Shortcuts.png\" width = 300 border=\"1\" style=\"border-color: #d3d3d3; margin-top: 1%;\"\/><\/div>\n",
    "\n",
    "### Command mode and Editor mode\n",
    "\n",
    "There are two modes for shortcuts: Command mode and Editor mode.\n",
    "\n",
    "When editing a cell's content you are in Editor mode. To access Command mode, which allows you to manipulate the cells themselves, press `Esc`. To switch back to Editor mode, press `Enter`."
   ],
   "attachments":{},
   "metadata":{
    "datalore":{
     "node_id":"djlPgB5Vrk6iSrJ5pUVMvY",
     "type":"MD",
     "hide_input_from_viewers":false,
     "hide_output_from_viewers":false,
     "report_properties":{
      "rowId":"bcUxP9Px4LFxp73uj80woi"
     }
    }
   }
  },
  {
   "cell_type":"markdown",
   "source":[
    "### Some of the most often used shortcuts include:\n",
    "\n",
    "- Run the selected cell and select below: `Shift+Enter`.\n",
    "- Change cell type: `Command+M\/Ctrl+M`.\n",
    "- Undo action: `Command+Z\/Ctrl+Z`.\n",
    "- Delete cell: `DD` (Command mode).\n",
    "- Insert cell above: `A` (Command mode).\n",
    "- Insert cell below: `B` (Command mode).\n",
    "- Copy selected cells: `C` (Command mode).\n",
    "- Cut selected cells: `X` (Command mode).\n",
    "- Paste below: `V` (Command mode)."
   ],
   "attachments":{},
   "metadata":{
    "datalore":{
     "node_id":"ZXW9McxHPxT1BGJcsqpaoc",
     "type":"MD",
     "hide_input_from_viewers":false,
     "hide_output_from_viewers":false,
     "report_properties":{
      "rowId":"OT4q1VjIzEc7O9bs0mrjdb"
     }
    }
   }
  },
  {
   "cell_type":"markdown",
   "source":[
    "### Command palette\n",
    "\n",
    "Access quick actions using the Command palette from the Help menu tab.\n",
    "\n",
    "<div><img src=\"https:\/\/datalore-samples.s3.eu-west-1.amazonaws.com\/datalore_gallery_of_samples\/Getting+started\/Command_palette.png\" width = 300 border=\"1\" style=\"border-color: #d3d3d3; margin-top: 1%;\"\/><\/div>"
   ],
   "attachments":{},
   "metadata":{
    "datalore":{
     "node_id":"gtaNW2TtHOaKNPczSX2LWk",
     "type":"MD",
     "hide_input_from_viewers":false,
     "hide_output_from_viewers":false,
     "report_properties":{
      "rowId":"37DgCIk6IRjS4v8yVsdcvy"
     }
    }
   }
  },
  {
   "cell_type":"markdown",
   "source":[
    "# Tutorials"
   ],
   "attachments":{},
   "metadata":{
    "datalore":{
     "node_id":"Tutorials",
     "type":"MD",
     "hide_input_from_viewers":false,
     "hide_output_from_viewers":false,
     "sheet_delimiter":true
    }
   }
  },
  {
   "cell_type":"markdown",
   "source":[
    "# Tutorial Gallery, Updates, Contact info\n",
    "\n",
    "We regularly post tips & tricks on our [blog](https:\/\/blog.jetbrains.com\/datalore\/) and on [Twitter](https:\/\/x.com\/datalore)! Check them out and subscribe to get the most out of Datalore.\n",
    "\n",
    "## Basic tutorials\n",
    "\n",
    "- [Pandas Tutorial: 10 Most Popular Questions for Python Data Frames](https:\/\/datalore.jetbrains.com\/view\/notebook\/6gojhrbqOlQNBil7H542XF)\n",
    "- [Visualization Tutorial With Seaborn](https:\/\/datalore.jetbrains.com\/view\/notebook\/v8mLoENq8XTfmStTCLNMV6)\n",
    "- [Visualization With Pyplot in Datalore](https:\/\/datalore.jetbrains.com\/view\/notebook\/Rk9o3SlkJAd47e8plzm0dV)\n",
    "- [Interactive Controls Tutorial](https:\/\/datalore.jetbrains.com\/view\/notebook\/sQPS7uBqNrBiu7t7uQXV74)\n",
    "- [Lets-Plot Usage Guide](https:\/\/datalore.jetbrains.com\/view\/notebook\/nsYaTYEEYG1wGIaqa2bWr5)\n",
    "- [Exploratory Data Analysis in Practice](https:\/\/blog.jetbrains.com\/datalore\/2022\/09\/05\/exploratory-data-analysis-in-practice\/)\n",
    "\n",
    "## Cool notebook samples\n",
    "\n",
    "- [10,000,000 Jupyter Notebooks Analyzed](https:\/\/datalore.jetbrains.com\/view\/notebook\/F7aMWFiuETFIWCo9BoxAtv)\n",
    "- [Random Forest, Trees, and Stumps 🌳🌴🌲 A General Overview of Binary Classification Models](https:\/\/datalore.jetbrains.com\/view\/notebook\/feUEhlTKRkbohY59fq18fN)\n",
    "\n",
    "## Webinars\n",
    "- [Is Your Analysis Reproducible? 5 Ways to Make Your Work Bulletproof With Datalore](https:\/\/www.youtube.com\/watch?v=MIctg07feIc)\n",
    "- [5 Tips for Combining Python and SQL in Datalore](https:\/\/www.youtube.com\/watch?v=5lPTshUFpW8)\n",
    "\n",
    "## Video Tutorials\n",
    "- [5 tips for using SQL cells in Datalore](https:\/\/www.youtube.com\/watch?v=xHlahGVq_BE)\n",
    "- [5 Tips for Creating Interactive Reports with Python in Datalore](https:\/\/www.youtube.com\/watch?v=cyYpQMRUOdE)"
   ],
   "attachments":{},
   "metadata":{
    "datalore":{
     "node_id":"pfZnzFum6p7F8EpKZWvc9m",
     "type":"MD",
     "hide_input_from_viewers":false,
     "hide_output_from_viewers":false,
     "report_properties":{
      "rowId":"3rDfT0yF80JIzilMtsRUT3"
     }
    }
   }
  },
  {
   "cell_type":"markdown",
   "source":[
    "## How to get support\n",
    "\n",
    "What really helps us make the Datalore product better is your feedback. Our team is always thankful when you tell us about your experience or report bugs.\n",
    "\n",
    "Feel free to share your feedback with us and report any issues by:\n",
    "\n",
    "- Writing a post on our [public forum](https:\/\/datalore-forum.jetbrains.com\/).\n",
    "- Emailing us at datalore-enterprise@jetbrains.com."
   ],
   "attachments":{},
   "metadata":{
    "datalore":{
     "node_id":"taA28GYDW0xLrRVLmaFK0l",
     "type":"MD",
     "hide_input_from_viewers":false,
     "hide_output_from_viewers":false,
     "report_properties":{
      "rowId":"x8rrH6w33YCRSqInedz4Aj"
     }
    }
   }
  }
 ],
 "metadata":{
  "kernelspec":{
   "display_name":"Python",
   "language":"python",
   "name":"python"
  },
  "datalore":{
   "computation_mode":"JUPYTER",
   "package_manager":"pip",
   "base_environment":"default",
   "packages":[],
   "report_row_ids":[
    "33sl19VC0pnwwWpLHinWNc",
    "sfvUCLpBu7yHOe76s7Qvjo",
    "hZsXMjEwQd5kJYVgI28hef",
    "4XOwvBHp8cTu0MJcZVvefp",
    "k4BJN3mzhNZGAspki6j8fp",
    "K2LYLHkdc6K6IAxVXO3fwR",
    "jIjc4HtHh3fc1aeg1YIozr",
    "p6gWSs3CMeNSXJoUSmNW3r",
    "b3sx1b9zHuqw2WuWIWTBpB",
    "DHvAFGcy4no4eMI5zfVoLT",
    "DCoQS2iGJ3oIEcmJUBRX7d",
    "IwyRqRPgvBRqWjvbuAPZxo",
    "sDzGsS8K6glBCG4zcucwRY",
    "ROPSrCmSdZh0YrzvviZ3zK",
    "AJS7REsgisH1yhKQeBWIw6",
    "cUnDdTRI2XuUIf63gEEJDK",
    "Gwk32cTXdzEUEhMqiL5QWA",
    "bEx0zfYd5zhYAmsiid4GTs",
    "EfAd5zHBP3txrCQNWFheHf",
    "XscBWzKjVDT5zRDG62JLai",
    "9JQIsZ0PeBrd53Cde1IfAo",
    "hyxLEKDubag3D5I5oLEX0j",
    "1ZCeMVAQ9RZ0RYvSbO3z9g",
    "4DyOJ1vxdyGoRYdzPsyb1Y",
    "7X67YshWiFWUaaX0wZNzA4",
    "ovgLF7YILkqnVYXFdSvOCj",
    "dpZhTa1iA42rpcd584B16S",
    "eC8rBvFJdFXJ3VE8LlHIdn",
    "IKodyf31yMd7xmGmyxECCM",
    "jTXzw2HjOgA3y3mwLgGZwp",
    "vpt1oyKxUxXe9GqdR4zT0Q",
    "MFbillXfXROqdVgxgc8DaY",
    "s1czQ0m3fS3QywqyqqmODY",
    "3KfRXbnlMvIN6N2oODnR3w",
    "z0Iu3ddQNCjIVBMpdcGeOy",
    "6Or7OcIOGuyuQ6LRmeRxTy",
    "bcUxP9Px4LFxp73uj80woi",
    "OT4q1VjIzEc7O9bs0mrjdb",
    "37DgCIk6IRjS4v8yVsdcvy",
    "3rDfT0yF80JIzilMtsRUT3",
    "x8rrH6w33YCRSqInedz4Aj"
   ],
   "version":3
  }
 },
 "nbformat":4,
 "nbformat_minor":4
}